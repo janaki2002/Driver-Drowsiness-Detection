{
  "nbformat": 4,
  "nbformat_minor": 0,
  "metadata": {
    "colab": {
      "provenance": [],
      "private_outputs": true
    },
    "kernelspec": {
      "name": "python3",
      "display_name": "Python 3"
    },
    "language_info": {
      "name": "python"
    },
    "accelerator": "GPU",
    "gpuClass": "standard"
  },
  "cells": [
    {
      "cell_type": "code",
      "execution_count": null,
      "metadata": {
        "id": "9EkAd5p6H2_8"
      },
      "outputs": [],
      "source": [
        "! pip install kaggle"
      ]
    },
    {
      "cell_type": "code",
      "source": [
        "! mkdir ~/.kaggle"
      ],
      "metadata": {
        "id": "7IEqx9m6JirN"
      },
      "execution_count": null,
      "outputs": []
    },
    {
      "cell_type": "code",
      "source": [
        "! cp kaggle.json ~/.kaggle/"
      ],
      "metadata": {
        "id": "J2DANncDJsCX"
      },
      "execution_count": null,
      "outputs": []
    },
    {
      "cell_type": "code",
      "source": [
        "! chmod 600 ~/.kaggle/kaggle.json"
      ],
      "metadata": {
        "id": "aFqAFqGoKBxa"
      },
      "execution_count": null,
      "outputs": []
    },
    {
      "cell_type": "code",
      "source": [
        "! kaggle datasets download -d prasadvpatil/mrl-dataset"
      ],
      "metadata": {
        "id": "M-lXuwuRKGM8"
      },
      "execution_count": null,
      "outputs": []
    },
    {
      "cell_type": "code",
      "source": [
        "import cv2\n",
        "import pandas as pd\n",
        "import numpy as np\n",
        "import matplotlib.pyplot as plt"
      ],
      "metadata": {
        "id": "CSuEI45JMXum"
      },
      "execution_count": null,
      "outputs": []
    },
    {
      "cell_type": "code",
      "source": [
        "from re import "
      ],
      "metadata": {
        "id": "q4-tOCPjSxce"
      },
      "execution_count": null,
      "outputs": []
    },
    {
      "cell_type": "code",
      "source": [
        "! unzip /content/mrl-dataset.zip"
      ],
      "metadata": {
        "id": "A0RpGKplMnHS"
      },
      "execution_count": null,
      "outputs": []
    },
    {
      "cell_type": "code",
      "source": [
        "img_array = cv2.imread('train/Closed_Eyes/s0001_00001_0_0_0_0_0_01.png', cv2.IMREAD_GRAYSCALE)"
      ],
      "metadata": {
        "id": "5JI7ZMY5NSjk"
      },
      "execution_count": null,
      "outputs": []
    },
    {
      "cell_type": "code",
      "source": [
        "image = plt.imread('train/Closed_Eyes/s0001_00001_0_0_0_0_0_01.png')"
      ],
      "metadata": {
        "id": "h-DpNABKNdRj"
      },
      "execution_count": null,
      "outputs": []
    },
    {
      "cell_type": "code",
      "source": [
        "plt.imshow(image , cmap=\"gray\")"
      ],
      "metadata": {
        "id": "ycYTuoXENemz"
      },
      "execution_count": null,
      "outputs": []
    },
    {
      "cell_type": "code",
      "source": [
        "import os"
      ],
      "metadata": {
        "id": "SX8a6bBxNpEb"
      },
      "execution_count": null,
      "outputs": []
    },
    {
      "cell_type": "code",
      "source": [
        "Datadirectory = 'train'\n",
        "Classes = ['Closed_Eyes', 'Open_Eyes']\n",
        "# Datadirectory = 'dataset_new/train/'\n",
        "# Classes = ['Closed', 'Open']\n",
        "for category in Classes:\n",
        "  path = os.path.join(Datadirectory, category)\n",
        "  for img in os.listdir(path):\n",
        "    img_array = cv2.imread(os.path.join(path,img), cv2.IMREAD_GRAYSCALE)\n",
        "    backtorgb = cv2.cvtColor(img_array,cv2.COLOR_GRAY2RGB)\n",
        "    plt.imshow(img_array, cmap=\"gray\")\n",
        "    plt.show()\n",
        "    break\n",
        "  break"
      ],
      "metadata": {
        "id": "cqT50dwbNliX"
      },
      "execution_count": null,
      "outputs": []
    },
    {
      "cell_type": "code",
      "source": [
        "img_size = 224\n",
        "new_array = cv2.resize(backtorgb, (img_size,img_size))\n",
        "plt.imshow(new_array, cmap=\"gray\")\n",
        "plt.show()"
      ],
      "metadata": {
        "id": "diQK_eSrNsfb"
      },
      "execution_count": null,
      "outputs": []
    },
    {
      "cell_type": "code",
      "source": [
        "training_data = []\n",
        "def create_training_data():\n",
        "  for category in Classes:\n",
        "      path = os.path.join(Datadirectory, category)\n",
        "      class_num = Classes.index(category)\n",
        "      for img in os.listdir(path):\n",
        "        try :\n",
        "           img_array = cv2.imread(os.path.join(path,img), cv2.IMREAD_GRAYSCALE)\n",
        "           backtorgb = cv2.cvtColor(img_array,cv2.COLOR_GRAY2RGB)\n",
        "           new_array = cv2.resize(backtorgb, (img_size,img_size))\n",
        "           training_data.append([new_array, class_num])\n",
        "        except Exception as e:\n",
        "          pass"
      ],
      "metadata": {
        "id": "nZWvTYchNwXM"
      },
      "execution_count": null,
      "outputs": []
    },
    {
      "cell_type": "code",
      "source": [
        "create_training_data()"
      ],
      "metadata": {
        "id": "RnUGUas0N1gD"
      },
      "execution_count": null,
      "outputs": []
    },
    {
      "cell_type": "code",
      "source": [
        "print(len(training_data))"
      ],
      "metadata": {
        "id": "sL3co-7qN7HX"
      },
      "execution_count": null,
      "outputs": []
    },
    {
      "cell_type": "code",
      "source": [
        "import random\n",
        "random.shuffle(training_data)"
      ],
      "metadata": {
        "id": "iMFW4W94N-cJ"
      },
      "execution_count": null,
      "outputs": []
    },
    {
      "cell_type": "code",
      "source": [
        "X = []\n",
        "y = []\n",
        "for features, label in training_data:\n",
        "  X.append(features)\n",
        "  y.append(label)\n",
        "\n",
        "X = np.array(X).reshape(-1, img_size, img_size, 3)"
      ],
      "metadata": {
        "id": "FDBMlYXXOCHW"
      },
      "execution_count": null,
      "outputs": []
    },
    {
      "cell_type": "code",
      "source": [
        "X.shape"
      ],
      "metadata": {
        "id": "zseBShZPODoa"
      },
      "execution_count": null,
      "outputs": []
    },
    {
      "cell_type": "code",
      "source": [
        "X = X/255.0"
      ],
      "metadata": {
        "id": "0eLAUlwBOIG0"
      },
      "execution_count": null,
      "outputs": []
    },
    {
      "cell_type": "code",
      "source": [
        "Y = np.array(y)"
      ],
      "metadata": {
        "id": "eqI3YN87OLn_"
      },
      "execution_count": null,
      "outputs": []
    },
    {
      "cell_type": "code",
      "source": [
        "import tensorflow as tf\n",
        "from tensorflow import keras\n",
        "from tensorflow.keras import layers"
      ],
      "metadata": {
        "id": "0Gcd_atWOOaf"
      },
      "execution_count": null,
      "outputs": []
    },
    {
      "cell_type": "code",
      "source": [
        "model = tf.keras.applications.mobilenet.MobileNet()"
      ],
      "metadata": {
        "id": "4abwY7uOORzT"
      },
      "execution_count": null,
      "outputs": []
    },
    {
      "cell_type": "code",
      "source": [
        "model.summary()"
      ],
      "metadata": {
        "id": "GXAJonBwOWgO"
      },
      "execution_count": null,
      "outputs": []
    },
    {
      "cell_type": "code",
      "source": [
        "base_input = model.layers[0].input"
      ],
      "metadata": {
        "id": "nqivWndcOaMG"
      },
      "execution_count": null,
      "outputs": []
    },
    {
      "cell_type": "code",
      "source": [
        "base_output = model.layers[-4].output"
      ],
      "metadata": {
        "id": "T7QQDhcSOgTn"
      },
      "execution_count": null,
      "outputs": []
    },
    {
      "cell_type": "code",
      "source": [
        "Flat_layer = layers.Flatten()(base_output)\n",
        "final_output = layers.Dense(1)(Flat_layer)\n",
        "final_output = layers.Activation('sigmoid')(final_output)"
      ],
      "metadata": {
        "id": "vi1VwHV9OjIT"
      },
      "execution_count": null,
      "outputs": []
    },
    {
      "cell_type": "code",
      "source": [
        "new_model = keras.Model(inputs = base_input, outputs = final_output)"
      ],
      "metadata": {
        "id": "HtCLrVy_OmiO"
      },
      "execution_count": null,
      "outputs": []
    },
    {
      "cell_type": "code",
      "source": [
        "new_model.summary()"
      ],
      "metadata": {
        "id": "lAJuALXMOqO6"
      },
      "execution_count": null,
      "outputs": []
    },
    {
      "cell_type": "code",
      "source": [
        "new_model.compile(loss=\"binary_crossentropy\", optimizer = \"adam\", metrics = [\"accuracy\"])"
      ],
      "metadata": {
        "id": "25OCs4gtOu-6"
      },
      "execution_count": null,
      "outputs": []
    },
    {
      "cell_type": "code",
      "source": [
        "history = new_model.fit(X,Y, epochs = 5, steps_per_epoch = 3,  validation_split = 0.1)"
      ],
      "metadata": {
        "id": "kRNeodwhO1Vs"
      },
      "execution_count": null,
      "outputs": []
    }
  ]
}